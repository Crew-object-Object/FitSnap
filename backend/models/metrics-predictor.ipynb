{
 "cells": [
  {
   "cell_type": "code",
   "execution_count": 7,
   "metadata": {},
   "outputs": [],
   "source": [
    "import pandas as pd\n",
    "import numpy as np\n",
    "import matplotlib.pyplot as plt\n",
    "import seaborn as sns"
   ]
  },
  {
   "cell_type": "code",
   "execution_count": 8,
   "metadata": {},
   "outputs": [
    {
     "data": {
      "text/html": [
       "<div>\n",
       "<style scoped>\n",
       "    .dataframe tbody tr th:only-of-type {\n",
       "        vertical-align: middle;\n",
       "    }\n",
       "\n",
       "    .dataframe tbody tr th {\n",
       "        vertical-align: top;\n",
       "    }\n",
       "\n",
       "    .dataframe thead th {\n",
       "        text-align: right;\n",
       "    }\n",
       "</style>\n",
       "<table border=\"1\" class=\"dataframe\">\n",
       "  <thead>\n",
       "    <tr style=\"text-align: right;\">\n",
       "      <th></th>\n",
       "      <th>weight</th>\n",
       "      <th>age</th>\n",
       "      <th>height</th>\n",
       "      <th>size</th>\n",
       "    </tr>\n",
       "  </thead>\n",
       "  <tbody>\n",
       "    <tr>\n",
       "      <th>0</th>\n",
       "      <td>62</td>\n",
       "      <td>28.0</td>\n",
       "      <td>172.72</td>\n",
       "      <td>XL</td>\n",
       "    </tr>\n",
       "    <tr>\n",
       "      <th>1</th>\n",
       "      <td>59</td>\n",
       "      <td>36.0</td>\n",
       "      <td>167.64</td>\n",
       "      <td>L</td>\n",
       "    </tr>\n",
       "    <tr>\n",
       "      <th>2</th>\n",
       "      <td>61</td>\n",
       "      <td>34.0</td>\n",
       "      <td>165.10</td>\n",
       "      <td>M</td>\n",
       "    </tr>\n",
       "    <tr>\n",
       "      <th>3</th>\n",
       "      <td>65</td>\n",
       "      <td>27.0</td>\n",
       "      <td>175.26</td>\n",
       "      <td>L</td>\n",
       "    </tr>\n",
       "    <tr>\n",
       "      <th>4</th>\n",
       "      <td>62</td>\n",
       "      <td>45.0</td>\n",
       "      <td>172.72</td>\n",
       "      <td>M</td>\n",
       "    </tr>\n",
       "  </tbody>\n",
       "</table>\n",
       "</div>"
      ],
      "text/plain": [
       "   weight   age  height size\n",
       "0      62  28.0  172.72   XL\n",
       "1      59  36.0  167.64    L\n",
       "2      61  34.0  165.10    M\n",
       "3      65  27.0  175.26    L\n",
       "4      62  45.0  172.72    M"
      ]
     },
     "execution_count": 8,
     "metadata": {},
     "output_type": "execute_result"
    }
   ],
   "source": [
    "df = pd.read_csv(\"../input/metrics-predictor.csv\")\n",
    "df.head()"
   ]
  },
  {
   "cell_type": "code",
   "execution_count": 9,
   "metadata": {},
   "outputs": [],
   "source": [
    "# Filling the missing values with the median\n",
    "df['age'] = df ['age'].fillna(df['age'].median())\n",
    "df['height'] = df ['height'].fillna(df['height'].median())\n",
    "df['size'] = df['size'].map({'XXS': 1, 'S': 2, \"M\" : 3, \"L\" : 4, \"XL\" : 5, \"XXL\" : 6, \"XXXL\" : 7})"
   ]
  },
  {
   "cell_type": "code",
   "execution_count": 10,
   "metadata": {},
   "outputs": [
    {
     "data": {
      "image/png": "[encoded data removed]",
      "text/plain": [
       "<Figure size 800x600 with 2 Axes>"
      ]
     },
     "metadata": {},
     "output_type": "display_data"
    }
   ],
   "source": [
    "# Having a look at the correlation matrix\n",
    "fig, ax = plt.subplots(figsize=(8,6))\n",
    "sns.heatmap(df.corr(), annot=True, fmt='.1g', cmap=\"viridis\",);"
   ]
  },
  {
   "cell_type": "code",
   "execution_count": 11,
   "metadata": {},
   "outputs": [],
   "source": [
    "X = df.drop(\"size\", axis=1)\n",
    "y = df[\"size\"]\n",
    "X.head()\n",
    "\n",
    "from sklearn.model_selection import train_test_split\n",
    "X_train, X_test, y_train, y_test = train_test_split(X,y,test_size=0.2)"
   ]
  },
  {
   "cell_type": "code",
   "execution_count": 12,
   "metadata": {},
   "outputs": [
    {
     "name": "stdout",
     "output_type": "stream",
     "text": [
      "Accuracy obtained by Linear Regression model: 64.91278863238843\n"
     ]
    }
   ],
   "source": [
    "from sklearn.linear_model import LinearRegression\n",
    "clf = LinearRegression()\n",
    "clf.fit(X_train,y_train)\n",
    "clf.predict(X_test)\n",
    "LinearRegressionScore = clf.score(X_test,y_test)\n",
    "print(\"Accuracy obtained by Linear Regression model:\", LinearRegressionScore*100)"
   ]
  },
  {
   "cell_type": "code",
   "execution_count": 13,
   "metadata": {},
   "outputs": [
    {
     "name": "stdout",
     "output_type": "stream",
     "text": [
      "Example of how to load and use the model:\n",
      "\n",
      "# Load the model\n",
      "loaded_model = joblib.load('size_predictor_model.joblib')\n",
      "\n",
      "# Prepare input data (must have the same features: weight, age, height)\n",
      "input_data = pd.DataFrame({\n",
      "  'weight': [65],\n",
      "  'age': [30],\n",
      "  'height': [170]\n",
      "})[loaded_model['feature_names']]\n",
      "\n",
      "# Make prediction\n",
      "prediction = loaded_model['model'].predict(input_data)\n",
      "print(f'Predicted size: {prediction[0]}')\n",
      "\n"
     ]
    }
   ],
   "source": [
    "import joblib\n",
    "\n",
    "# Create a dictionary with the model and any necessary preprocessing components\n",
    "model_export = {\n",
    "  'model': clf,\n",
    "  'feature_names': X.columns.tolist()\n",
    "}\n",
    "\n",
    "# Save the model to a file\n",
    "joblib.dump(model_export, 'size_predictor_model.joblib')\n",
    "\n",
    "# Example of how to use the saved model\n",
    "# Loading and usage example:\n",
    "print(\"Example of how to load and use the model:\")\n",
    "print(\"\"\"\n",
    "# Load the model\n",
    "loaded_model = joblib.load('size_predictor_model.joblib')\n",
    "\n",
    "# Prepare input data (must have the same features: weight, age, height)\n",
    "input_data = pd.DataFrame({\n",
    "  'weight': [65],\n",
    "  'age': [30],\n",
    "  'height': [170]\n",
    "})[loaded_model['feature_names']]\n",
    "\n",
    "# Make prediction\n",
    "prediction = loaded_model['model'].predict(input_data)\n",
    "print(f'Predicted size: {prediction[0]}')\n",
    "\"\"\")"
   ]
  }
 ],
 "metadata": {
  "kernelspec": {
   "display_name": "Python 3",
   "language": "python",
   "name": "python3"
  },
  "language_info": {
   "codemirror_mode": {
    "name": "ipython",
    "version": 3
   },
   "file_extension": ".py",
   "mimetype": "text/x-python",
   "name": "python",
   "nbconvert_exporter": "python",
   "pygments_lexer": "ipython3",
   "version": "3.12.3"
  }
 },
 "nbformat": 4,
 "nbformat_minor": 2
}
